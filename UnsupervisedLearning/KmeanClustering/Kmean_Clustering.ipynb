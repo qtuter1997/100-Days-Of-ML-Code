{
  "nbformat": 4,
  "nbformat_minor": 0,
  "metadata": {
    "colab": {
      "name": "Kmean-Clustering.ipynb",
      "provenance": [],
      "authorship_tag": "ABX9TyP2mF+dQ9QCM9dBIJvmaL3s",
      "include_colab_link": true
    },
    "kernelspec": {
      "name": "python3",
      "display_name": "Python 3"
    },
    "language_info": {
      "name": "python"
    }
  },
  "cells": [
    {
      "cell_type": "markdown",
      "metadata": {
        "id": "view-in-github",
        "colab_type": "text"
      },
      "source": [
        "<a href=\"https://colab.research.google.com/github/qtuter1997/100-Days-Of-ML-Code/blob/master/UnsupervisedLearning/KmeanClustering/Kmean_Clustering.ipynb\" target=\"_parent\"><img src=\"https://colab.research.google.com/assets/colab-badge.svg\" alt=\"Open In Colab\"/></a>"
      ]
    },
    {
      "cell_type": "markdown",
      "metadata": {
        "id": "wnbnJfT4q5Mt"
      },
      "source": [
        "**K-mean Clustering**"
      ]
    },
    {
      "cell_type": "code",
      "metadata": {
        "id": "silUPgOMwlcb"
      },
      "source": [
        "import numpy as np\n",
        "import pandas as pd\n"
      ],
      "execution_count": null,
      "outputs": []
    }
  ]
}